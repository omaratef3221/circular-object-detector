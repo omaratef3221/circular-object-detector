{
 "cells": [
  {
   "cell_type": "code",
   "execution_count": 1,
   "id": "06bc697d",
   "metadata": {},
   "outputs": [],
   "source": [
    "## upload all images\n",
    "import requests\n",
    "import os\n",
    "import json\n",
    "\n",
    "all_images_path = 'coin-dataset'\n",
    "def evaluate_all_images():\n",
    "    accuracies = []\n",
    "    for idx, i in enumerate(os.listdir(all_images_path)):\n",
    "        if i.endswith('.jpg'):\n",
    "            image_path = os.path.join(all_images_path, i)\n",
    "            url = \"http://127.0.0.1:8000/upload-image\"\n",
    "\n",
    "            payload = {}\n",
    "            files=[\n",
    "            ('image',(i,\n",
    "                        open(image_path,'rb'),''\n",
    "                        'image/jpeg'))\n",
    "            ]\n",
    "            headers = {}\n",
    "\n",
    "            response = requests.request(\"POST\", url, headers=headers, data=payload, files=files)\n",
    "            if 'error' in json.loads(response.text).keys():\n",
    "                continue\n",
    "            image_id = json.loads(response.text)[\"image_id\"]\n",
    "\n",
    "\n",
    "            url = f\"http://127.0.0.1:8000/evaluate-auto/{image_id}\"\n",
    "\n",
    "            payload = {}\n",
    "            headers = {}\n",
    "\n",
    "            response = requests.request(\"GET\", url, headers=headers, data=payload)\n",
    "\n",
    "            accuracy = json.loads(response.text)[\"accuracy\"]\n",
    "            accuracies.append(accuracy)\n",
    "        if idx == 50:\n",
    "            break\n",
    "    \n",
    "    print(f\"Average accuracy: {sum(accuracies) / len(accuracies):.3f}\")\n"
   ]
  },
  {
   "cell_type": "code",
   "execution_count": 2,
   "id": "91c6b59f",
   "metadata": {},
   "outputs": [
    {
     "name": "stdout",
     "output_type": "stream",
     "text": [
      "Average accuracy: 0.836\n"
     ]
    }
   ],
   "source": [
    "evaluate_all_images()"
   ]
  },
  {
   "cell_type": "code",
   "execution_count": null,
   "id": "152c61e2",
   "metadata": {},
   "outputs": [],
   "source": []
  }
 ],
 "metadata": {
  "kernelspec": {
   "display_name": "aiq_assignment",
   "language": "python",
   "name": "python3"
  },
  "language_info": {
   "codemirror_mode": {
    "name": "ipython",
    "version": 3
   },
   "file_extension": ".py",
   "mimetype": "text/x-python",
   "name": "python",
   "nbconvert_exporter": "python",
   "pygments_lexer": "ipython3",
   "version": "3.10.0"
  }
 },
 "nbformat": 4,
 "nbformat_minor": 5
}
