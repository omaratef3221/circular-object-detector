{
 "cells": [
  {
   "cell_type": "code",
   "execution_count": 1,
   "id": "13a3fb06-5168-4df5-8157-5361be7213c8",
   "metadata": {},
   "outputs": [],
   "source": [
    "from app.detection import CircleDetector\n",
    "from app.models import *\n",
    "from app.storage import *\n",
    "import os\n",
    "import cv2\n",
    "from matplotlib import pyplot as plt\n",
    "import warnings\n",
    "warnings.filterwarnings(\"ignore\")\n",
    "\n",
    "detector = CircleDetector()\n",
    "\n",
    "class Custom_Storage(ImageStorage): #inheritance from ImageStorage\n",
    "    def __init__(self):\n",
    "        super().__init__()\n",
    "        self.storage_path = 'coin-dataset'  \n",
    "\n",
    "    def get_image_path(self, image_id: str) -> str:\n",
    "        return os.path.join(self.storage_path, image_id)\n",
    "\n",
    "storage = Custom_Storage() # Initialize storage object\n"
   ]
  },
  {
   "cell_type": "code",
   "execution_count": 2,
   "id": "f3a8b008-5869-4a37-9ff8-9fbafa49a2af",
   "metadata": {},
   "outputs": [
    {
     "name": "stdout",
     "output_type": "stream",
     "text": [
      "Average accuracy: 0.86\n"
     ]
    }
   ],
   "source": [
    "all_images_path = 'coin-dataset'\n",
    "accuracies = []\n",
    "for idx, i in enumerate(os.listdir(all_images_path)):\n",
    "    if i.endswith('.jpg'):\n",
    "        image_path = os.path.join(all_images_path, i)\n",
    "        detected, mask_img, result_img = detector.detect_circles(image_path)\n",
    "        \n",
    "        result = detector.evaluate_detection(\n",
    "        image_filename=i,\n",
    "        coco_json_path='coin-dataset/_annotations.coco.json',\n",
    "        storage=storage,\n",
    "        DetectedCircle=DetectedCircle,\n",
    "        CircleProperties=CircleProperties,\n",
    "        BoundingBox=BoundingBox,\n",
    "        iou_thresh=25\n",
    "            )\n",
    "        accuracies.append(result[\"accuracy\"])\n",
    "print(f\"Average accuracy: {sum(accuracies) / len(accuracies):.2f}\")"
   ]
  }
 ],
 "metadata": {
  "kernelspec": {
   "display_name": "aiq_assignment",
   "language": "python",
   "name": "python3"
  },
  "language_info": {
   "codemirror_mode": {
    "name": "ipython",
    "version": 3
   },
   "file_extension": ".py",
   "mimetype": "text/x-python",
   "name": "python",
   "nbconvert_exporter": "python",
   "pygments_lexer": "ipython3",
   "version": "3.10.0"
  }
 },
 "nbformat": 4,
 "nbformat_minor": 5
}
